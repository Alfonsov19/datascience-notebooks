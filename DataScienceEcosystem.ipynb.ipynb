{
 "cells": [
  {
   "cell_type": "markdown",
   "id": "c9ef6ef8-a63a-42dd-9757-793519dd9ad3",
   "metadata": {},
   "source": [
    "#  Data Science Tools and Ecosystem"
   ]
  },
  {
   "cell_type": "markdown",
   "id": "ae495793-1f4b-45da-91f4-dad2f509d319",
   "metadata": {},
   "source": [
    "In this notebook, Data Science Tools and Ecosystem are summarized."
   ]
  },
  {
   "cell_type": "markdown",
   "id": "ac6c9d00-8feb-4781-81fe-772b66d09999",
   "metadata": {},
   "source": [
    "Some of the popular languages that Data Scientists use are:\n",
    "\n",
    "1. Python  \n",
    "2. R  \n",
    "3. SQL"
   ]
  },
  {
   "cell_type": "markdown",
   "id": "aeadc48b-e5c7-4d56-a047-aabda0aef000",
   "metadata": {},
   "source": [
    "Some of the commonly used libraries used by Data Scientists include:\n",
    "1. Pandas\n",
    "2. NumPy\n",
    "3. MatPlotlib"
   ]
  },
  {
   "cell_type": "markdown",
   "id": "9b526f00-9a8f-444b-abb7-fcda38b4a6b7",
   "metadata": {},
   "source": [
    "  | Data Science Tools| \n",
    "|------------------------|\n",
    "| Jupyter Notebook       |\n",
    "| RStudio                |\n",
    "| Apache Zeppelin        |\n"
   ]
  },
  {
   "cell_type": "markdown",
   "id": "c73a5e6c-13b8-4ed7-b028-5e39233127f9",
   "metadata": {},
   "source": [
    "### Below are a few examples of evaluating arithmetic expressions in Python\n"
   ]
  },
  {
   "cell_type": "markdown",
   "id": "c3ac0e3d-9377-4830-87c8-85efbed1aaaf",
   "metadata": {},
   "source": [
    "**Objectives:**\n",
    "\n",
    "- List popular languages for Data Science  \n",
    "- List commonly used libraries for Data Science  \n",
    "- Demonstrate the use of arithmetic expressions in Python  \n",
    "- Create tables and lists in Jupyter Notebooks using Markdown  \n",
    "- Share Jupyter Notebooks through GitHub  "
   ]
  },
  {
   "cell_type": "code",
   "execution_count": 1,
   "id": "f0c0a8ce-ef53-4e7f-92bc-963e35238a24",
   "metadata": {},
   "outputs": [
    {
     "name": "stdout",
     "output_type": "stream",
     "text": [
      "17\n"
     ]
    }
   ],
   "source": [
    "# This a simple arithmetic expression to mutiply then add integers.\n",
    "print((3*4)+5)"
   ]
  },
  {
   "cell_type": "code",
   "execution_count": 2,
   "id": "e45a52ec-5cec-4d83-81da-f05eb5b43529",
   "metadata": {},
   "outputs": [
    {
     "name": "stdout",
     "output_type": "stream",
     "text": [
      "3.3333333333333335\n"
     ]
    }
   ],
   "source": [
    "# This will convert 200 minutes to hours by diving by 60.\n",
    "print(200/60)"
   ]
  },
  {
   "cell_type": "markdown",
   "id": "57f13a02-b053-4d99-9a3f-afbe68e36572",
   "metadata": {},
   "source": [
    "## Author \n",
    "Alfonso Villalobos "
   ]
  },
  {
   "cell_type": "code",
   "execution_count": null,
   "id": "62a4cec7-9e11-4daf-9301-190d1f7fb266",
   "metadata": {},
   "outputs": [],
   "source": []
  }
 ],
 "metadata": {
  "kernelspec": {
   "display_name": "Python 3 (ipykernel)",
   "language": "python",
   "name": "python3"
  },
  "language_info": {
   "codemirror_mode": {
    "name": "ipython",
    "version": 3
   },
   "file_extension": ".py",
   "mimetype": "text/x-python",
   "name": "python",
   "nbconvert_exporter": "python",
   "pygments_lexer": "ipython3",
   "version": "3.13.2"
  }
 },
 "nbformat": 4,
 "nbformat_minor": 5
}
